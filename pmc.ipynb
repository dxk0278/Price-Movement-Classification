{
 "cells": [
  {
   "cell_type": "code",
   "execution_count": 329,
   "id": "2d3c5c91",
   "metadata": {},
   "outputs": [],
   "source": [
    "#Import needed libraries\n",
    "\n",
    "import yfinance as yf\n",
    "from ta.momentum import RSIIndicator\n",
    "from ta.trend import MACD\n",
    "import matplotlib.pyplot as plt\n",
    "from xgboost import XGBClassifier\n",
    "from sklearn.model_selection import train_test_split\n",
    "from sklearn.linear_model import LogisticRegression\n",
    "from sklearn.metrics import classification_report"
   ]
  },
  {
   "cell_type": "code",
   "execution_count": 330,
   "id": "b4c81004",
   "metadata": {},
   "outputs": [
    {
     "name": "stderr",
     "output_type": "stream",
     "text": [
      "C:\\Users\\daksh\\AppData\\Local\\Temp\\ipykernel_40924\\2385680315.py:3: FutureWarning: YF.download() has changed argument auto_adjust default to True\n",
      "  nvda = yf.download(\"NVDA\", start=\"2020-01-01\", end=\"2020-12-31\")\n",
      "[*********************100%***********************]  1 of 1 completed\n"
     ]
    }
   ],
   "source": [
    "#Using Nvidia's stock data\n",
    "\n",
    "nvda = yf.download(\"NVDA\", start=\"2020-01-01\", end=\"2020-12-31\")\n",
    "nvda.to_csv(\"nvda_data.csv\")"
   ]
  },
  {
   "cell_type": "code",
   "execution_count": 331,
   "id": "c7725406",
   "metadata": {},
   "outputs": [],
   "source": [
    "#Implementing features  \n",
    "\n",
    "rsi = RSIIndicator(close = nvda[\"Close\"][\"NVDA\"], window=14, fillna=False)\n",
    "nvda[\"rsi\"] = rsi.rsi()\n",
    "nvda[\"macd\"] = MACD(nvda[\"Close\"][\"NVDA\"]).macd_diff()\n",
    "nvda[\"returns\"] = nvda[\"Close\"][\"NVDA\"].pct_change()\n",
    "nvda[\"ma_10\"] = nvda[\"Close\"][\"NVDA\"].rolling(10).mean()"
   ]
  },
  {
   "cell_type": "code",
   "execution_count": 332,
   "id": "98525eaa",
   "metadata": {},
   "outputs": [],
   "source": [
    "#Check if the next day's closing price went up \n",
    "\n",
    "nvda[\"Target\"] = (nvda[\"Close\"][\"NVDA\"].shift(-1) > nvda[\"Close\"][\"NVDA\"]).astype(int)"
   ]
  },
  {
   "cell_type": "code",
   "execution_count": 333,
   "id": "41b9294f",
   "metadata": {},
   "outputs": [],
   "source": [
    "#Extracting data needed for training the model \n",
    "\n",
    "features = nvda[[\"rsi\",\"macd\",\"returns\",\"ma_10\"]].dropna()\n",
    "labels = nvda[\"Target\"].loc[features.index]\n",
    "\n",
    "x_train, x_test, y_train, y_test = train_test_split(features, labels, test_size=0.2, shuffle=False)"
   ]
  },
  {
   "cell_type": "code",
   "execution_count": 334,
   "id": "fc5144dc",
   "metadata": {},
   "outputs": [
    {
     "name": "stdout",
     "output_type": "stream",
     "text": [
      "              precision    recall  f1-score   support\n",
      "\n",
      "           0       0.45      0.94      0.61        18\n",
      "           1       0.83      0.19      0.31        26\n",
      "\n",
      "    accuracy                           0.50        44\n",
      "   macro avg       0.64      0.57      0.46        44\n",
      "weighted avg       0.68      0.50      0.43        44\n",
      "\n"
     ]
    }
   ],
   "source": [
    "#Initialize model and predict\n",
    "\n",
    "from sklearn.preprocessing import StandardScaler\n",
    "\n",
    "scaler = StandardScaler()\n",
    "x_train_scaled = scaler.fit_transform(x_train)\n",
    "x_test_scaled = scaler.transform(x_test)\n",
    "\n",
    "model = LogisticRegression(class_weight='balanced')\n",
    "model.fit(x_train_scaled, y_train)\n",
    "y_pred = model.predict(x_test_scaled)\n",
    "\n",
    "#print(y_train.value_counts())\n",
    "#print(y_test.value_counts())\n",
    "print(classification_report(y_test, y_pred))"
   ]
  },
  {
   "cell_type": "code",
   "execution_count": 335,
   "id": "5313999c",
   "metadata": {},
   "outputs": [
    {
     "name": "stdout",
     "output_type": "stream",
     "text": [
      "              precision    recall  f1-score   support\n",
      "\n",
      "           0       0.56      0.56      0.56        18\n",
      "           1       0.69      0.69      0.69        26\n",
      "\n",
      "    accuracy                           0.64        44\n",
      "   macro avg       0.62      0.62      0.62        44\n",
      "weighted avg       0.64      0.64      0.64        44\n",
      "\n"
     ]
    }
   ],
   "source": [
    "from sklearn.ensemble import RandomForestClassifier\n",
    "\n",
    "rf_model = RandomForestClassifier(class_weight='balanced', random_state=42)\n",
    "rf_model.fit(x_train, y_train)\n",
    "y_pred = rf_model.predict(x_test)\n",
    "print(classification_report(y_test, y_pred))"
   ]
  },
  {
   "cell_type": "markdown",
   "id": "0920c049",
   "metadata": {},
   "source": []
  },
  {
   "cell_type": "code",
   "execution_count": 336,
   "id": "fbbfe33d",
   "metadata": {},
   "outputs": [
    {
     "name": "stdout",
     "output_type": "stream",
     "text": [
      "              precision    recall  f1-score   support\n",
      "\n",
      "           0       0.70      0.39      0.50        18\n",
      "           1       0.68      0.88      0.77        26\n",
      "\n",
      "    accuracy                           0.68        44\n",
      "   macro avg       0.69      0.64      0.63        44\n",
      "weighted avg       0.69      0.68      0.66        44\n",
      "\n"
     ]
    }
   ],
   "source": [
    "xgb_model = XGBClassifier()\n",
    "xgb_model.fit(x_train, y_train)\n",
    "y_pred = xgb_model.predict(x_test)\n",
    "\n",
    "print(classification_report(y_test, y_pred))"
   ]
  }
 ],
 "metadata": {
  "kernelspec": {
   "display_name": "Python 3",
   "language": "python",
   "name": "python3"
  },
  "language_info": {
   "codemirror_mode": {
    "name": "ipython",
    "version": 3
   },
   "file_extension": ".py",
   "mimetype": "text/x-python",
   "name": "python",
   "nbconvert_exporter": "python",
   "pygments_lexer": "ipython3",
   "version": "3.13.5"
  }
 },
 "nbformat": 4,
 "nbformat_minor": 5
}
